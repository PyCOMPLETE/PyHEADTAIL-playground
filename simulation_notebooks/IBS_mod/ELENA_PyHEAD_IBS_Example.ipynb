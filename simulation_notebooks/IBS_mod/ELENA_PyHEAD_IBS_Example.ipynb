{
 "cells": [
  {
   "cell_type": "markdown",
   "metadata": {},
   "source": [
    "# general imports"
   ]
  },
  {
   "cell_type": "code",
   "execution_count": 1,
   "metadata": {},
   "outputs": [],
   "source": [
    "from __future__ import division, print_function\n",
    "\n",
    "import numpy as np\n",
    "np.random.seed(42)\n",
    "\n",
    "from scipy.constants import m_p, c, e\n",
    "\n",
    "import matplotlib.pyplot as plt\n",
    "%matplotlib inline\n",
    "\n",
    "from IPython import display"
   ]
  },
  {
   "cell_type": "code",
   "execution_count": 2,
   "metadata": {},
   "outputs": [],
   "source": [
    "# sets the PyHEADTAIL directory etc.\n",
    "try:\n",
    "    from settings import *\n",
    "except:\n",
    "    pass"
   ]
  },
  {
   "cell_type": "markdown",
   "metadata": {},
   "source": [
    "# PyHEADTAIL imports"
   ]
  },
  {
   "cell_type": "code",
   "execution_count": 3,
   "metadata": {
    "scrolled": true
   },
   "outputs": [
    {
     "name": "stdout",
     "output_type": "stream",
     "text": [
      "PyHEADTAIL v1.14.1\n",
      "\n",
      "\n"
     ]
    }
   ],
   "source": [
    "from PyHEADTAIL.particles.generators import ParticleGenerator, RF_bucket_distribution, gaussian2D,gaussian2D_asymmetrical\n",
    "from PyHEADTAIL.trackers.longitudinal_tracking import RFSystems\n",
    "from PyHEADTAIL.trackers.rf_bucket import RFBucket\n",
    "from PyHEADTAIL.trackers.transverse_tracking import TransverseMap\n",
    "from PyHEADTAIL.monitors.monitors import BunchMonitor, SliceMonitor, ParticleMonitor\n",
    "from PyHEADTAIL.trackers.detuners import Chromaticity, AmplitudeDetuning\n",
    "import sys\n",
    "from PyHEADTAIL.particles import generators,particles\n",
    "from PyHEADTAIL.particles.generators import RFBucketMatcher\n",
    "from PyHEADTAIL.cobra_functions.stats import emittance"
   ]
  },
  {
   "cell_type": "markdown",
   "metadata": {},
   "source": [
    "# Setting up the machine and beam parameters"
   ]
  },
  {
   "cell_type": "code",
   "execution_count": 4,
   "metadata": {},
   "outputs": [],
   "source": [
    "# General\n",
    "\n",
    "nturns = 100 #200  #20000 #2**16\n",
    "npart =5000\n",
    "A=1\n",
    "Q=-1\n",
    "\n",
    "Ekin_per_nucleon = 100000 #0.2e9 # in eV\n",
    "intensity =4.5e6 #0.625e11\n",
    "nmass=0.9383\n",
    "mass_eV = A * nmass * 1e9\n",
    "mass_MeV = A * nmass * 1e3\n",
    "mass = mass_eV * e / c**2 # in kg\n",
    "charge = Q * e # in Coul\n",
    "\n",
    "Ekin = Ekin_per_nucleon * A\n",
    "p0c = np.sqrt(Ekin**2 + 2*Ekin*mass/e * c**2) # in eV\n",
    "\n",
    "Etot = np.sqrt(p0c**2 + (mass/e)**2 * c**4) * 1e-9 # in GeV\n",
    "p0 = p0c / c * e # in SI units\n",
    "gamma = np.sqrt(1 + (p0 / (mass * c))**2)\n",
    "beta = np.sqrt(1 - gamma**-2)\n",
    "\n",
    "# Machine\n",
    "C = 30.4056\n",
    "R = C/(2*np.pi)\n",
    "\n",
    "alpha  = 0.25835\n",
    "eta    = alpha - 1/gamma**2\n",
    "V      = [100]\n",
    "h      = [1]\n",
    "phi   = [np.pi]\n",
    "frequency1=0.143938 #MhZ\n",
    "\n",
    "# Acceleration\n",
    "T0            = C/(beta*c)\n",
    "normalisation = 1/C * e/p0 * T0\n",
    "\n",
    "epsx_rms_fin = 2.5e-6 #35e-6 / 4 # geometrical emittances\n",
    "epsy_rms_fin = 2.5e-6 #15e-6 / 4\n",
    "\n",
    "limit_n_rms_x = 2  #3.5#2\n",
    "limit_n_rms_y = 2#3.5#2\n",
    "limit_n_rms_z = 2 #3.5#3.4\n",
    "\n",
    "sig_z = 0.3284 #58 / 4. # in m\n",
    "sig_dp =1e-4 #0.5e-3e\n",
    "epsx_gauss = epsx_rms_fin #* 1.778 RMS adjustment not needed if limit_n_rms are >>2!\n",
    "epsy_gauss = epsy_rms_fin #* 1.82 RMS adjustment not needed if limit_n_rms are >>2!\n",
    "\n",
    "epsn_x = epsx_gauss * beta * gamma\n",
    "epsn_y = epsy_gauss * beta * gamma\n",
    "\n",
    "beta_z = sig_z / sig_dp\n",
    "\n",
    "epsn_z = sig_z * sig_dp * 4 * np.pi * p0/e\n",
    "\n",
    "p_increment = sig_dp * p0\n",
    "\n"
   ]
  },
  {
   "cell_type": "markdown",
   "metadata": {},
   "source": [
    "# Dictionary for IBS calculations"
   ]
  },
  {
   "cell_type": "code",
   "execution_count": 5,
   "metadata": {},
   "outputs": [],
   "source": [
    "beam_dict={'Z':Q,\n",
    "           'mass':mass_MeV,\n",
    "           'KE':Ekin/1e+6,\n",
    "           'emit_x':epsx_gauss,\n",
    "           'emit_y':epsx_gauss,\n",
    "           'dp_p':sig_dp,\n",
    "           'N_ptcl':intensity,\n",
    "           'sigma_s0':sig_z\n",
    "            }"
   ]
  },
  {
   "cell_type": "markdown",
   "metadata": {},
   "source": [
    "# Preparing Twiss files"
   ]
  },
  {
   "cell_type": "code",
   "execution_count": 6,
   "metadata": {},
   "outputs": [
    {
     "name": "stdout",
     "output_type": "stream",
     "text": [
      "\n",
      "  ++++++++++++++++++++++++++++++++++++++++++++\n",
      "  +     MAD-X 5.06.01  (64 bit, Linux)       +\n",
      "  + Support: mad@cern.ch, http://cern.ch/mad +\n",
      "  + Release   date: 2020.09.01               +\n",
      "  + Execution date: 2021.06.01 20:19:22      +\n",
      "  ++++++++++++++++++++++++++++++++++++++++++++\n",
      "MAD-X summary: \n",
      " Qx= 2.454 \n",
      " Qy= 1.416 \n",
      " dQx=-3.1574408714289386\n"
     ]
    }
   ],
   "source": [
    "from cpymad.madx import Madx\n",
    "qx = 2.454 #18.95#84 #tune_range_qx[0]\n",
    "qy = 1.416  #18.94#73 #tune_range_qy[0]\n",
    "install_apertures = False\n",
    "apply_errors = False\n",
    "Thin=False\n",
    "pystl_device = \"opencl:0.0\"\n",
    "e_seed = 24\n",
    "\n",
    "qqx, qqy = int(np.round((qx%1) * 100)), int(np.round((qy%1) * 100))\n",
    "filename_errors = \"errors_{qqx}_{qqy}_{eseed:d}\".format(\n",
    "            qqx=qqx, qqy=qqy, eseed=e_seed)\n",
    "\n",
    "madx=Madx()\n",
    "madx.options.echo = False\n",
    "madx.options.warn = False\n",
    "madx = Madx(stdout=False)\n",
    "madx.call('elena_simplified_origin.madx')\n",
    "\n",
    "\n",
    "madx.command.beam(particle='ion', mass=A*nmass, charge=Q, energy=Etot) # /Q for RF to have proton beam!\n",
    "\n",
    "title=\"Thick elements\"\n",
    "\n",
    "madx.use(sequence='ELENA') \n",
    "        \n",
    "if Thin==False:\n",
    "    \n",
    "    madx.input('''match, sequence=ELENA; \n",
    "    global, sequence=ELENA, q1={qx}, q2={qy};\n",
    "    vary, name=kq1, step=0.00001;\n",
    "    vary, name=kq2, step=0.00001;\n",
    "    lmdif, calls=500, tolerance=1.0e-10;\n",
    "    endmatch;\n",
    "    '''.format(qx=qx, qy=qy)\n",
    "    )\n",
    "    \n",
    "    twiss = madx.twiss();\n",
    "\n",
    "madx_seq = madx.sequence.ELENA\n",
    "print(f\"MAD-X summary: \\n Qx= {twiss.summary.q1} \\n Qy= {twiss.summary.q2} \\n dQx={twiss.summary.dq1*beta}\")\n",
    "qx_act=twiss.summary.q1\n",
    "qy_act=twiss.summary.q2\n",
    "dq1=twiss.summary.dq1*beta\n",
    "dq2=twiss.summary.dq2*beta"
   ]
  },
  {
   "cell_type": "markdown",
   "metadata": {},
   "source": [
    "# IBS functions"
   ]
  },
  {
   "cell_type": "code",
   "execution_count": 7,
   "metadata": {},
   "outputs": [],
   "source": [
    "from PyHEAD_IBS import IBS_Martini_rates,IBS_BM_rates,IBS_kick"
   ]
  },
  {
   "cell_type": "code",
   "execution_count": 8,
   "metadata": {},
   "outputs": [
    {
     "name": "stdout",
     "output_type": "stream",
     "text": [
      "Rates X 0.22132545210160895 # Rates Y -0.31346560046982186 # Rates Z 51.2198147405692 #\n"
     ]
    }
   ],
   "source": [
    "IBS_Martini=IBS_Martini_rates(twiss,beam_dict,True,60,60,100,12.5,1)\n",
    "print(f'Rates X {IBS_Martini.rsx} # Rates Y {IBS_Martini.rsy} # Rates Z {IBS_Martini.rss} #')"
   ]
  },
  {
   "cell_type": "code",
   "execution_count": 9,
   "metadata": {},
   "outputs": [
    {
     "name": "stdout",
     "output_type": "stream",
     "text": [
      "Rates X 0.22069657967379055 # Rates Y -0.3062356075066439 # Rates Z 51.69187245553312 #\n"
     ]
    }
   ],
   "source": [
    "IBS_BM=IBS_BM_rates(twiss,beam_dict,True,60,60,100,12.5,1)\n",
    "print(f'Rates X {IBS_BM.rsx} # Rates Y {IBS_BM.rsy} # Rates Z {IBS_BM.rss} #')"
   ]
  },
  {
   "cell_type": "code",
   "execution_count": null,
   "metadata": {},
   "outputs": [],
   "source": [
    "chroma = Chromaticity(Qp_x=[dq1], Qp_y=[dq2]) # note the lists!"
   ]
  },
  {
   "cell_type": "markdown",
   "metadata": {},
   "source": [
    "## Mean optics from MAD-X IBS calculations"
   ]
  },
  {
   "cell_type": "code",
   "execution_count": null,
   "metadata": {},
   "outputs": [],
   "source": [
    "betx   =   4.20436E+00    bety   =   3.48406E+00    Dx  =  1.21510E+00    Dy  =  0.00000E+00\n",
    "alfx   =   4.01651E-16    alfy   =   4.81982E-16    Dpx = -4.38165E-17    Dpy =  0.00000E+00\n",
    "1/betx =   5.05807E-01    1/bety =   2.93247E-01\n"
   ]
  },
  {
   "cell_type": "code",
   "execution_count": null,
   "metadata": {},
   "outputs": [],
   "source": [
    "n_segments = 1\n",
    "C = twiss.summary.length\n",
    "R = C / (2.*np.pi)\n",
    "s = np.arange(0, n_segments + 1) * C / n_segments\n",
    "\n",
    "alpha_x_inj = 0.\n",
    "alpha_y_inj = 0.\n",
    "\n",
    "beta_x_inj =4.20436 #R/qx_act\n",
    "beta_y_inj =3.48406 #R/qy_act\n",
    "\n",
    "D_x_inj=1.2151\n",
    "D_y_inj=0\n",
    "\n",
    "alpha_x = alpha_x_inj * np.ones(n_segments)\n",
    "beta_x = beta_x_inj * np.ones(n_segments)\n",
    "alpha_y = alpha_y_inj * np.ones(n_segments)\n",
    "beta_y = beta_y_inj * np.ones(n_segments)\n",
    "\n",
    "D_x = np.ones(n_segments)*D_x_inj\n",
    "D_y = np.ones(n_segments)*D_y_inj\n",
    "\n",
    "dq1=twiss.summary.dq1*beta\n",
    "dq2=twiss.summary.dq2*beta\n",
    "\n",
    "trans_map_smooth = TransverseMap(\n",
    "s, alpha_x, beta_x, D_x, alpha_y, beta_y, D_y, qx_act, qx_act, [chroma])"
   ]
  },
  {
   "cell_type": "code",
   "execution_count": null,
   "metadata": {},
   "outputs": [],
   "source": [
    "longitudinal_map = RFSystems(\n",
    "    C, h, V, phi, [alpha], gamma, \n",
    "    p_increment=0, charge=-e, mass=m_p,D_x=D_x_inj, D_y=0)\n",
    "\n",
    "rfbucket = longitudinal_map.get_bucket(gamma=gamma)"
   ]
  },
  {
   "cell_type": "code",
   "execution_count": null,
   "metadata": {},
   "outputs": [],
   "source": [
    "np.random.seed(3)\n",
    "\n",
    "pyht_beam = generators.generate_Gaussian6DTwiss(\n",
    "    npart, 1, charge, mass, C, gamma,\n",
    "    alpha_x_inj, alpha_y_inj,beta_x_inj, beta_y_inj,\n",
    "    beta_z, epsn_x, epsn_y, epsn_z,\n",
    "    dispersion_x=D_x_inj, #D_x_0 if D_x_0 else None,\n",
    "    dispersion_y=0, #D_y_0 if D_y_0 else None,\n",
    "    limit_n_rms_x=limit_n_rms_x**2, limit_n_rms_y=limit_n_rms_y**2, \n",
    "    limit_n_rms_z=limit_n_rms_z**2,\n",
    ")\n"
   ]
  },
  {
   "cell_type": "code",
   "execution_count": null,
   "metadata": {},
   "outputs": [],
   "source": [
    "epsn_x_ratio_sq = np.sqrt(epsn_x / pyht_beam.epsn_x())\n",
    "epsn_y_ratio_sq = np.sqrt(epsn_y / pyht_beam.epsn_y())\n",
    "dp_ratio=sig_dp / np.std( pyht_beam.dp)\n",
    "sigz_ratio=sig_z/np.std( pyht_beam.z)\n",
    "\n",
    "pyht_beam.x *= epsn_x_ratio_sq\n",
    "pyht_beam.xp *= epsn_x_ratio_sq\n",
    "pyht_beam.y *= epsn_y_ratio_sq\n",
    "pyht_beam.yp *= epsn_y_ratio_sq\n",
    "pyht_beam.z *= sigz_ratio\n",
    "pyht_beam.dp *= dp_ratio"
   ]
  },
  {
   "cell_type": "code",
   "execution_count": null,
   "metadata": {},
   "outputs": [],
   "source": [
    "import h5py as hp\n",
    "def read_all_data(bfile,data):\n",
    "    bunchdata = hp.File(bfile + '.h5')\n",
    "\n",
    "    # Bunchdata\n",
    "    bdata = bunchdata['Bunch']\n",
    "    \n",
    "    n_turns = len(bdata[data])\n",
    "    _ = np.empty(n_turns)\n",
    "    for key in bdata.keys():\n",
    "        _[:] = bdata[key][:]\n",
    "    \n",
    "    bunchdata.close()\n",
    "\n",
    "def read_n_plot_data(bfile,nturns,data,factor):\n",
    "    bunchdata = hp.File(bfile + '.h5')\n",
    "\n",
    "    fig = plt.figure(figsize=(16, 16))\n",
    "    ax1 = fig.add_subplot(311)\n",
    "\n",
    "    ax1.plot(bunchdata['Bunch'][data][:nturns]*factor)\n",
    "    ax1.set_xlabel('turns', fontsize=20)\n",
    "    ax1.set_ylabel(f'{data} of bunch', fontsize=20)\n",
    "    ax1.set_title('BunchMonitor', fontsize=20)\n",
    "    \n",
    "    plt.tight_layout()\n",
    "    \n",
    "    bunchdata.close()"
   ]
  },
  {
   "cell_type": "code",
   "execution_count": null,
   "metadata": {
    "scrolled": true
   },
   "outputs": [],
   "source": [
    "# Monitors\n",
    "bunch_filename = 'bunch_mon'\n",
    "particle_filename = 'particle_mon'\n",
    "\n",
    "bunch_monitor = BunchMonitor(\n",
    "    filename=bunch_filename, n_steps=nturns, \n",
    "    parameters_dict={'Q_x': qx_act}, write_buffer_every=2\n",
    ")\n",
    "particle_monitor = ParticleMonitor(\n",
    "    filename=particle_filename, stride=10, \n",
    "    parameters_dict={'Q_x': qx_act}\n",
    ")"
   ]
  },
  {
   "cell_type": "code",
   "execution_count": null,
   "metadata": {},
   "outputs": [],
   "source": [
    "import os\n",
    "os.remove(bunch_filename + '.h5')\n",
    "os.remove(particle_filename + '.h5part')"
   ]
  },
  {
   "cell_type": "code",
   "execution_count": null,
   "metadata": {
    "scrolled": true
   },
   "outputs": [],
   "source": [
    "map_ = list(trans_map_smooth)+[longitudinal_map]\n",
    "dt=twiss.summary.length/(pyht_beam.beta*c)\n",
    "rxl=[]\n",
    "ryl=[]\n",
    "rsl=[]\n",
    "time=[]\n",
    "\n",
    "for i in range(nturns):\n",
    "    t=i+1\n",
    "    for m_ in map_:\n",
    "        m_.track(pyht_beam)\n",
    "   #Update beam dictionary     \n",
    "    beam_dict={'Z':Q,\n",
    "    'mass':mass_MeV,\n",
    "    'KE':Ekin/1e+6,\n",
    "    'emit_x':pyht_beam.epsn_x()/pyht_beam.betagamma,\n",
    "    'emit_y':pyht_beam.epsn_y()/pyht_beam.betagamma,\n",
    "    'dp_p':pyht_beam.sigma_dp(),\n",
    "    'N_ptcl':intensity,\n",
    "    'sigma_s0':pyht_beam.sigma_z()            \n",
    "    }  \n",
    "   #Calculate rates\n",
    "    IBS=IBS_Martini_rates(twiss,beam_dict,True,60,60,100,12.5,1)\n",
    "    print(f'Time =  {dt*t}  Rates X {IBS.rsx} # Rates Y {IBS.rsy} # Rates Z {IBS.rss} #')\n",
    "    \n",
    "    growth_rx=IBS.rsx\n",
    "    growth_ry=IBS.rsy\n",
    "    growth_rs=IBS.rss\n",
    "    \n",
    "    rxl.append(growth_rx)\n",
    "    ryl.append(growth_ry)\n",
    "    rsl.append(growth_rs)\n",
    "    time.append(dt*t)\n",
    "    \n",
    "    #Apply IBS kick\n",
    "    IBSMap=IBS_kick(growth_rx,growth_ry,growth_rs, dt ,Dx=D_x_inj,Dy=0)\n",
    "    IBSMap.track(pyht_beam)\n",
    "    \n",
    "    bunch_monitor.dump(pyht_beam)  \n",
    "    "
   ]
  },
  {
   "cell_type": "code",
   "execution_count": null,
   "metadata": {},
   "outputs": [],
   "source": [
    "with hp.File(bunch_filename + '.h5') as bunchdata:\n",
    "    print(bunchdata['Bunch']['epsn_x'][0]/pyht_beam.betagamma)"
   ]
  },
  {
   "cell_type": "code",
   "execution_count": null,
   "metadata": {},
   "outputs": [],
   "source": [
    "with hp.File(bunch_filename + '.h5') as bunchdata:\n",
    "\n",
    "    fig = plt.figure(figsize=(8,5))\n",
    "\n",
    "    data='ryl'\n",
    "    plt.plot(rsl)\n",
    "    plt.xlabel('turns', fontsize=20)\n",
    "    plt.ylabel(f'{data} of bunch', fontsize=20)\n",
    "    plt.title('BunchMonitor', fontsize=20)\n",
    "    plt.twinx()\n",
    "    plt.plot((bunchdata['Bunch']['sigma_z'][0:nturns]))"
   ]
  },
  {
   "cell_type": "code",
   "execution_count": null,
   "metadata": {
    "scrolled": true
   },
   "outputs": [],
   "source": [
    "with hp.File(bunch_filename + '.h5') as bunchdata:\n",
    "    \n",
    "    exb=bunchdata['Bunch']['epsn_x'][0:nturns]\n",
    "    eyb=bunchdata['Bunch']['epsn_y'][0:nturns]\n",
    "    sigzb=bunchdata['Bunch']['sigma_z'][0:nturns]\n",
    "    b=list(zip( time,exb,eyb,dpl,sigzb,rxl,ryl,rsl))    \n",
    "    np.savetxt(\"PyH_everything after.csv\", np.array(b), delimiter=\"\\t\")   "
   ]
  },
  {
   "cell_type": "code",
   "execution_count": null,
   "metadata": {},
   "outputs": [],
   "source": [
    "fig = plt.figure(figsize=(16, 16))\n",
    "ax1 = fig.add_subplot(311)\n",
    "\n",
    "data='ryl'\n",
    "ax1.plot(rxl)\n",
    "\n",
    "#ax1.plot(bunchdata['Bunch'][data][:nturns]*1)\n",
    "ax1.set_xlabel('turns', fontsize=20)\n",
    "ax1.set_ylabel(f'{data} of bunch', fontsize=20)\n",
    "ax1.set_title('BunchMonitor', fontsize=20)"
   ]
  },
  {
   "cell_type": "code",
   "execution_count": null,
   "metadata": {},
   "outputs": [],
   "source": [
    "fig = plt.figure(figsize=(16, 16))\n",
    "ax1 = fig.add_subplot(311)\n",
    "\n",
    "data='ryl'\n",
    "ax1.plot(ryl)\n",
    "#ax1.plot(bunchdata['Bunch'][data][:nturns]*1)\n",
    "ax1.set_xlabel('turns', fontsize=20)\n",
    "ax1.set_ylabel(f'{data} of bunch', fontsize=20)\n",
    "ax1.set_title('BunchMonitor', fontsize=20)"
   ]
  }
 ],
 "metadata": {
  "kernelspec": {
   "display_name": "Python 3",
   "language": "python",
   "name": "python3"
  },
  "language_info": {
   "codemirror_mode": {
    "name": "ipython",
    "version": 3
   },
   "file_extension": ".py",
   "mimetype": "text/x-python",
   "name": "python",
   "nbconvert_exporter": "python",
   "pygments_lexer": "ipython3",
   "version": "3.8.3"
  },
  "varInspector": {
   "cols": {
    "lenName": 16,
    "lenType": 16,
    "lenVar": 40
   },
   "kernels_config": {
    "python": {
     "delete_cmd_postfix": "",
     "delete_cmd_prefix": "del ",
     "library": "var_list.py",
     "varRefreshCmd": "print(var_dic_list())"
    },
    "r": {
     "delete_cmd_postfix": ") ",
     "delete_cmd_prefix": "rm(",
     "library": "var_list.r",
     "varRefreshCmd": "cat(var_dic_list()) "
    }
   },
   "types_to_exclude": [
    "module",
    "function",
    "builtin_function_or_method",
    "instance",
    "_Feature"
   ],
   "window_display": false
  }
 },
 "nbformat": 4,
 "nbformat_minor": 1
}
